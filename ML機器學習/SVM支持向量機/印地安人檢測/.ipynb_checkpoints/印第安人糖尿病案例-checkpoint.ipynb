{
 "cells": [
  {
   "cell_type": "code",
   "execution_count": 1,
   "metadata": {},
   "outputs": [],
   "source": [
    "#導入必要的包（使用python3.6）\n",
    "import numpy as np\n",
    "import pandas as pd\n",
    "import seaborn as sns\n",
    "import matplotlib.pyplot as plt\n",
    "from scipy.stats import norm\n",
    "from scipy.stats import skew\n",
    "from scipy import stats\n",
    "from sklearn.preprocessing import OneHotEncoder\n",
    "from scipy.sparse import hstack\n",
    "from sklearn.svm import LinearSVC\n",
    "from sklearn.svm import SVC\n",
    "from sklearn.linear_model import LogisticRegression\n",
    "from sklearn.linear_model import LogisticRegressionCV\n",
    "from sklearn.model_selection import GridSearchCV\n",
    "from sklearn.metrics import classification_report\n",
    "from sklearn import metrics\n",
    "from sklearn.preprocessing import StandardScaler\n",
    "from sklearn.model_selection import train_test_split\n",
    "from sklearn.model_selection import cross_val_score\n",
    "\n",
    "\n",
    "\n",
    "color = sns.color_palette()\n",
    "sns.set_style('darkgrid')\n",
    "pd.set_option('display.float_format', lambda x: '{:.3f}'.format(x))"
   ]
  },
  {
   "cell_type": "code",
   "execution_count": 2,
   "metadata": {},
   "outputs": [],
   "source": [
    "#讀取數據\n",
    "data = pd.read_csv('diabetes.csv')"
   ]
  },
  {
   "cell_type": "code",
   "execution_count": 3,
   "metadata": {},
   "outputs": [
    {
     "name": "stdout",
     "output_type": "stream",
     "text": [
      "   Pregnancies  Glucose  BloodPressure  SkinThickness  Insulin    BMI  \\\n",
      "0            6      148             72             35        0 33.600   \n",
      "1            1       85             66             29        0 26.600   \n",
      "2            8      183             64              0        0 23.300   \n",
      "3            1       89             66             23       94 28.100   \n",
      "4            0      137             40             35      168 43.100   \n",
      "\n",
      "   DiabetesPedigreeFunction  Age  Outcome  \n",
      "0                     0.627   50        1  \n",
      "1                     0.351   31        0  \n",
      "2                     0.672   32        1  \n",
      "3                     0.167   21        0  \n",
      "4                     2.288   33        1  \n"
     ]
    }
   ],
   "source": [
    "print (data.head())"
   ]
  },
  {
   "cell_type": "code",
   "execution_count": 4,
   "metadata": {},
   "outputs": [
    {
     "name": "stdout",
     "output_type": "stream",
     "text": [
      "<class 'pandas.core.frame.DataFrame'>\n",
      "RangeIndex: 768 entries, 0 to 767\n",
      "Data columns (total 9 columns):\n",
      "Pregnancies                 768 non-null int64\n",
      "Glucose                     768 non-null int64\n",
      "BloodPressure               768 non-null int64\n",
      "SkinThickness               768 non-null int64\n",
      "Insulin                     768 non-null int64\n",
      "BMI                         768 non-null float64\n",
      "DiabetesPedigreeFunction    768 non-null float64\n",
      "Age                         768 non-null int64\n",
      "Outcome                     768 non-null int64\n",
      "dtypes: float64(2), int64(7)\n",
      "memory usage: 54.1 KB\n",
      "None\n"
     ]
    }
   ],
   "source": [
    "print (data.info())"
   ]
  },
  {
   "cell_type": "code",
   "execution_count": 5,
   "metadata": {},
   "outputs": [
    {
     "name": "stdout",
     "output_type": "stream",
     "text": [
      "       Pregnancies  Glucose  BloodPressure  SkinThickness  Insulin     BMI  \\\n",
      "count      768.000  768.000        768.000        768.000  768.000 768.000   \n",
      "mean         3.845  120.895         69.105         20.536   79.799  31.993   \n",
      "std          3.370   31.973         19.356         15.952  115.244   7.884   \n",
      "min          0.000    0.000          0.000          0.000    0.000   0.000   \n",
      "25%          1.000   99.000         62.000          0.000    0.000  27.300   \n",
      "50%          3.000  117.000         72.000         23.000   30.500  32.000   \n",
      "75%          6.000  140.250         80.000         32.000  127.250  36.600   \n",
      "max         17.000  199.000        122.000         99.000  846.000  67.100   \n",
      "\n",
      "       DiabetesPedigreeFunction     Age  Outcome  \n",
      "count                   768.000 768.000  768.000  \n",
      "mean                      0.472  33.241    0.349  \n",
      "std                       0.331  11.760    0.477  \n",
      "min                       0.078  21.000    0.000  \n",
      "25%                       0.244  24.000    0.000  \n",
      "50%                       0.372  29.000    0.000  \n",
      "75%                       0.626  41.000    1.000  \n",
      "max                       2.420  81.000    1.000  \n"
     ]
    }
   ],
   "source": [
    "print (data.describe())"
   ]
  },
  {
   "cell_type": "raw",
   "metadata": {},
   "source": [
    "數據探索"
   ]
  },
  {
   "cell_type": "raw",
   "metadata": {},
   "source": [
    "###其他數據類似方法"
   ]
  },
  {
   "cell_type": "code",
   "execution_count": 6,
   "metadata": {},
   "outputs": [],
   "source": [
    "#插補0值（按Outcome 分組求平均插入）\n",
    "data.loc[(data[\"Glucose\"]==0) & (data['Outcome']==0),'Glucose'] = data.groupby('Outcome').mean()[\"Glucose\"][0]\n",
    "data.loc[(data[\"Glucose\"]==0) & (data['Outcome']==1),'Glucose'] = data.groupby('Outcome').mean()[\"Glucose\"][1]\n",
    "\n",
    "\n",
    "data.loc[(data[\"BloodPressure\"]==0) & (data['Outcome']==0),'BloodPressure'] = data.groupby('Outcome').mean()[\"BloodPressure\"][0]\n",
    "data.loc[(data[\"BloodPressure\"]==0) & (data['Outcome']==1),'BloodPressure'] = data.groupby('Outcome').mean()[\"BloodPressure\"][1]\n",
    "\n",
    "\n",
    "\n",
    "data.loc[(data[\"SkinThickness\"]==0) & (data['Outcome']==0),'SkinThickness'] = data.groupby('Outcome').mean()[\"SkinThickness\"][0]\n",
    "data.loc[(data[\"SkinThickness\"]==0) & (data['Outcome']==1),'SkinThickness'] = data.groupby('Outcome').mean()[\"SkinThickness\"][1]\n",
    "\n",
    "\n",
    "\n",
    "data.loc[(data[\"Insulin\"]==0) & (data['Outcome']==0),'Insulin'] = data.groupby('Outcome').mean()[\"Insulin\"][0]\n",
    "data.loc[(data[\"Insulin\"]==0) & (data['Outcome']==1),'Insulin'] = data.groupby('Outcome').mean()[\"Insulin\"][1]\n",
    "\n",
    "data.loc[(data[\"BMI\"]==0) & (data['Outcome']==0),'BMI'] = data.groupby('Outcome').mean()[\"BMI\"][0]\n",
    "data.loc[(data[\"BMI\"]==0) & (data['Outcome']==1),'BMI'] = data.groupby('Outcome').mean()[\"BMI\"][1]"
   ]
  },
  {
   "cell_type": "code",
   "execution_count": 7,
   "metadata": {},
   "outputs": [],
   "source": [
    "data['Insulin'] = np.log1p(data['Insulin'])"
   ]
  },
  {
   "cell_type": "code",
   "execution_count": 8,
   "metadata": {},
   "outputs": [
    {
     "data": {
      "text/html": [
       "<div>\n",
       "<style scoped>\n",
       "    .dataframe tbody tr th:only-of-type {\n",
       "        vertical-align: middle;\n",
       "    }\n",
       "\n",
       "    .dataframe tbody tr th {\n",
       "        vertical-align: top;\n",
       "    }\n",
       "\n",
       "    .dataframe thead th {\n",
       "        text-align: right;\n",
       "    }\n",
       "</style>\n",
       "<table border=\"1\" class=\"dataframe\">\n",
       "  <thead>\n",
       "    <tr style=\"text-align: right;\">\n",
       "      <th></th>\n",
       "      <th>Skew</th>\n",
       "    </tr>\n",
       "  </thead>\n",
       "  <tbody>\n",
       "    <tr>\n",
       "      <th>DiabetesPedigreeFunction</th>\n",
       "      <td>1.916</td>\n",
       "    </tr>\n",
       "    <tr>\n",
       "      <th>SkinThickness</th>\n",
       "      <td>1.208</td>\n",
       "    </tr>\n",
       "    <tr>\n",
       "      <th>Age</th>\n",
       "      <td>1.127</td>\n",
       "    </tr>\n",
       "    <tr>\n",
       "      <th>Pregnancies</th>\n",
       "      <td>0.900</td>\n",
       "    </tr>\n",
       "    <tr>\n",
       "      <th>Insulin</th>\n",
       "      <td>0.769</td>\n",
       "    </tr>\n",
       "    <tr>\n",
       "      <th>BMI</th>\n",
       "      <td>0.603</td>\n",
       "    </tr>\n",
       "    <tr>\n",
       "      <th>Glucose</th>\n",
       "      <td>0.530</td>\n",
       "    </tr>\n",
       "    <tr>\n",
       "      <th>BloodPressure</th>\n",
       "      <td>0.169</td>\n",
       "    </tr>\n",
       "  </tbody>\n",
       "</table>\n",
       "</div>"
      ],
      "text/plain": [
       "                          Skew\n",
       "DiabetesPedigreeFunction 1.916\n",
       "SkinThickness            1.208\n",
       "Age                      1.127\n",
       "Pregnancies              0.900\n",
       "Insulin                  0.769\n",
       "BMI                      0.603\n",
       "Glucose                  0.530\n",
       "BloodPressure            0.169"
      ]
     },
     "execution_count": 8,
     "metadata": {},
     "output_type": "execute_result"
    }
   ],
   "source": [
    "skewed_feats = data.drop('Outcome', axis = 1).apply(lambda x: skew(x.dropna())).sort_values(ascending=False)\n",
    "skewness = pd.DataFrame({'Skew' :skewed_feats})\n",
    "skewness.head(10)"
   ]
  },
  {
   "cell_type": "code",
   "execution_count": 9,
   "metadata": {},
   "outputs": [],
   "source": [
    "skewness = skewness[abs(skewness) > 0.75]"
   ]
  },
  {
   "cell_type": "code",
   "execution_count": 10,
   "metadata": {},
   "outputs": [
    {
     "name": "stdout",
     "output_type": "stream",
     "text": [
      "ok\n"
     ]
    }
   ],
   "source": [
    "from scipy.special import boxcox1p\n",
    "from scipy.stats import boxcox\n",
    "skewed_features = skewness.index\n",
    "lam = 0.245\n",
    "for feat in skewed_features:\n",
    "    data[feat] = boxcox1p(data[feat], lam)\n",
    "\n",
    "\n",
    "# skewed_features = skewness.index\n",
    "# rx=[]\n",
    "# rl=[]\n",
    "# for feat in skewed_features:\n",
    "#     all_data[feat] = boxcox(all_data[feat]+0.00001,0.25)\n",
    "#     #rx.append(x)\n",
    "#     #rl.append(x)\n",
    "print('ok')"
   ]
  },
  {
   "cell_type": "code",
   "execution_count": 11,
   "metadata": {},
   "outputs": [],
   "source": [
    "#取出y和x\n",
    "y = data['Outcome'].values\n",
    "X = data.drop('Outcome', axis = 1)"
   ]
  },
  {
   "cell_type": "code",
   "execution_count": 12,
   "metadata": {},
   "outputs": [
    {
     "data": {
      "text/html": [
       "<div>\n",
       "<style scoped>\n",
       "    .dataframe tbody tr th:only-of-type {\n",
       "        vertical-align: middle;\n",
       "    }\n",
       "\n",
       "    .dataframe tbody tr th {\n",
       "        vertical-align: top;\n",
       "    }\n",
       "\n",
       "    .dataframe thead th {\n",
       "        text-align: right;\n",
       "    }\n",
       "</style>\n",
       "<table border=\"1\" class=\"dataframe\">\n",
       "  <thead>\n",
       "    <tr style=\"text-align: right;\">\n",
       "      <th></th>\n",
       "      <th>Pregnancies</th>\n",
       "      <th>Glucose</th>\n",
       "      <th>BloodPressure</th>\n",
       "      <th>SkinThickness</th>\n",
       "      <th>Insulin</th>\n",
       "      <th>BMI</th>\n",
       "      <th>DiabetesPedigreeFunction</th>\n",
       "      <th>Age</th>\n",
       "    </tr>\n",
       "  </thead>\n",
       "  <tbody>\n",
       "    <tr>\n",
       "      <th>count</th>\n",
       "      <td>768.000</td>\n",
       "      <td>768.000</td>\n",
       "      <td>768.000</td>\n",
       "      <td>768.000</td>\n",
       "      <td>768.000</td>\n",
       "      <td>768.000</td>\n",
       "      <td>768.000</td>\n",
       "      <td>768.000</td>\n",
       "    </tr>\n",
       "    <tr>\n",
       "      <th>mean</th>\n",
       "      <td>1.645</td>\n",
       "      <td>9.106</td>\n",
       "      <td>7.576</td>\n",
       "      <td>5.026</td>\n",
       "      <td>2.140</td>\n",
       "      <td>5.526</td>\n",
       "      <td>0.388</td>\n",
       "      <td>5.525</td>\n",
       "    </tr>\n",
       "    <tr>\n",
       "      <th>std</th>\n",
       "      <td>1.054</td>\n",
       "      <td>0.799</td>\n",
       "      <td>0.485</td>\n",
       "      <td>0.754</td>\n",
       "      <td>0.148</td>\n",
       "      <td>0.481</td>\n",
       "      <td>0.224</td>\n",
       "      <td>0.755</td>\n",
       "    </tr>\n",
       "    <tr>\n",
       "      <th>min</th>\n",
       "      <td>0.000</td>\n",
       "      <td>6.291</td>\n",
       "      <td>4.899</td>\n",
       "      <td>2.712</td>\n",
       "      <td>1.545</td>\n",
       "      <td>4.337</td>\n",
       "      <td>0.076</td>\n",
       "      <td>4.623</td>\n",
       "    </tr>\n",
       "    <tr>\n",
       "      <th>25%</th>\n",
       "      <td>0.755</td>\n",
       "      <td>8.555</td>\n",
       "      <td>7.268</td>\n",
       "      <td>4.490</td>\n",
       "      <td>2.044</td>\n",
       "      <td>5.192</td>\n",
       "      <td>0.224</td>\n",
       "      <td>4.899</td>\n",
       "    </tr>\n",
       "    <tr>\n",
       "      <th>50%</th>\n",
       "      <td>1.651</td>\n",
       "      <td>9.054</td>\n",
       "      <td>7.596</td>\n",
       "      <td>4.810</td>\n",
       "      <td>2.147</td>\n",
       "      <td>5.535</td>\n",
       "      <td>0.329</td>\n",
       "      <td>5.310</td>\n",
       "    </tr>\n",
       "    <tr>\n",
       "      <th>75%</th>\n",
       "      <td>2.493</td>\n",
       "      <td>9.663</td>\n",
       "      <td>7.897</td>\n",
       "      <td>5.532</td>\n",
       "      <td>2.211</td>\n",
       "      <td>5.844</td>\n",
       "      <td>0.516</td>\n",
       "      <td>6.117</td>\n",
       "    </tr>\n",
       "    <tr>\n",
       "      <th>max</th>\n",
       "      <td>4.205</td>\n",
       "      <td>10.866</td>\n",
       "      <td>9.188</td>\n",
       "      <td>8.532</td>\n",
       "      <td>2.657</td>\n",
       "      <td>7.399</td>\n",
       "      <td>1.435</td>\n",
       "      <td>7.933</td>\n",
       "    </tr>\n",
       "  </tbody>\n",
       "</table>\n",
       "</div>"
      ],
      "text/plain": [
       "       Pregnancies  Glucose  BloodPressure  SkinThickness  Insulin     BMI  \\\n",
       "count      768.000  768.000        768.000        768.000  768.000 768.000   \n",
       "mean         1.645    9.106          7.576          5.026    2.140   5.526   \n",
       "std          1.054    0.799          0.485          0.754    0.148   0.481   \n",
       "min          0.000    6.291          4.899          2.712    1.545   4.337   \n",
       "25%          0.755    8.555          7.268          4.490    2.044   5.192   \n",
       "50%          1.651    9.054          7.596          4.810    2.147   5.535   \n",
       "75%          2.493    9.663          7.897          5.532    2.211   5.844   \n",
       "max          4.205   10.866          9.188          8.532    2.657   7.399   \n",
       "\n",
       "       DiabetesPedigreeFunction     Age  \n",
       "count                   768.000 768.000  \n",
       "mean                      0.388   5.525  \n",
       "std                       0.224   0.755  \n",
       "min                       0.076   4.623  \n",
       "25%                       0.224   4.899  \n",
       "50%                       0.329   5.310  \n",
       "75%                       0.516   6.117  \n",
       "max                       1.435   7.933  "
      ]
     },
     "execution_count": 12,
     "metadata": {},
     "output_type": "execute_result"
    }
   ],
   "source": [
    "X.describe()"
   ]
  },
  {
   "cell_type": "code",
   "execution_count": 13,
   "metadata": {},
   "outputs": [],
   "source": [
    "#連續值分組，構建類別特征\n",
    "ages = pd.cut(X[\"Age\"],3,labels=[1,2,3]).astype(int)\n",
    "BMI =pd.cut(X[\"BMI\"],3,labels=[1,2,3]).astype(int)"
   ]
  },
  {
   "cell_type": "code",
   "execution_count": 14,
   "metadata": {},
   "outputs": [],
   "source": [
    "Pregnancies =pd.cut(X[\"Pregnancies\"],3,labels=[1,2,3,]).astype(int)"
   ]
  },
  {
   "cell_type": "code",
   "execution_count": 15,
   "metadata": {},
   "outputs": [],
   "source": [
    "Glucose =pd.cut(X[\"Glucose\"],3,labels=[1,2,3]).astype(int)\n",
    "BloodPressure =pd.cut(X[\"BloodPressure\"],3,labels=[1,2,3]).astype(int)\n",
    "SkinThickness =pd.cut(X[\"SkinThickness\"],3,labels=[1,2,3]).astype(int)\n",
    "Insulin =pd.cut(X[\"Insulin\"],3,labels=[1,2,3]).astype(int)\n",
    "DiabetesPedigreeFunction =pd.cut(X[\"DiabetesPedigreeFunction\"],3,labels=[1,2,3]).astype(int)"
   ]
  },
  {
   "cell_type": "code",
   "execution_count": 16,
   "metadata": {},
   "outputs": [
    {
     "name": "stdout",
     "output_type": "stream",
     "text": [
      "1    349\n",
      "2    295\n",
      "3    124\n",
      "Name: Pregnancies, dtype: int64\n"
     ]
    }
   ],
   "source": [
    "print(pd.value_counts(Pregnancies) )"
   ]
  },
  {
   "cell_type": "code",
   "execution_count": 17,
   "metadata": {},
   "outputs": [],
   "source": [
    "#對類別特征熱值碼\n",
    "a1 = (OneHotEncoder(sparse=False).fit_transform(ages.values.reshape(-1, 1)))\n",
    "b1 = (OneHotEncoder(sparse=False).fit_transform(BMI.values.reshape(-1, 1)))\n",
    "c1 = (OneHotEncoder(sparse=False).fit_transform(Pregnancies.values.reshape(-1, 1)))\n",
    "d1 = (OneHotEncoder(sparse=False).fit_transform(Glucose.values.reshape(-1, 1)))\n",
    "e1 = (OneHotEncoder(sparse=False).fit_transform(BloodPressure.values.reshape(-1, 1)))\n",
    "f1 = (OneHotEncoder(sparse=False).fit_transform(SkinThickness.values.reshape(-1, 1)))\n",
    "g1 = (OneHotEncoder(sparse=False).fit_transform(Insulin.values.reshape(-1, 1)))\n",
    "h1 = (OneHotEncoder(sparse=False).fit_transform(DiabetesPedigreeFunction.values.reshape(-1, 1)))"
   ]
  },
  {
   "cell_type": "code",
   "execution_count": 18,
   "metadata": {},
   "outputs": [],
   "source": [
    "#數據插入\n",
    "da= pd.DataFrame(columns=['a1','a2','a3',], data = a1)\n",
    "db= pd.DataFrame(columns=['b1','b2','b3'], data = b1)\n",
    "dc= pd.DataFrame(columns=['c1','c2','c3',], data = c1)\n",
    "dd= pd.DataFrame(columns=['d1','d2','d3'], data = d1)\n",
    "de= pd.DataFrame(columns=['e1','e2','e3'], data = e1)\n",
    "df= pd.DataFrame(columns=['f1','f2','f3'], data = f1)\n",
    "dg= pd.DataFrame(columns=['g1','g2','g3'], data = g1)\n",
    "dh= pd.DataFrame(columns=['h1','h2','h3'], data = h1)"
   ]
  },
  {
   "cell_type": "code",
   "execution_count": 19,
   "metadata": {},
   "outputs": [],
   "source": [
    "X = X.drop('Pregnancies', axis = 1)"
   ]
  },
  {
   "cell_type": "code",
   "execution_count": 20,
   "metadata": {},
   "outputs": [],
   "source": [
    "# # 數據標準化\n",
    "# # 初始化特征的標準化器\n",
    "# ss_X = StandardScaler()\n",
    "\n",
    "# # 分別對訓練和測試數據的特征進行標準化處理\n",
    "# X = ss_X.fit_transform(X)"
   ]
  },
  {
   "cell_type": "code",
   "execution_count": 21,
   "metadata": {},
   "outputs": [],
   "source": [
    "X = pd.DataFrame(X)\n",
    "X['a1']=da['a1']\n",
    "X['a2']=da['a2']\n",
    "X['a3']=da['a3']\n",
    "# X['a4']=da['a4']\n",
    "# X['a5']=da['a5']\n",
    "# X['b1']=db['b1']\n",
    "# X['b2']=db['b2']\n",
    "# X['b3']=db['b3']\n",
    "X['c1']=dc['c1']\n",
    "X['c2']=dc['c2']\n",
    "X['c3']=dc['c3']\n",
    "# X['c4']=dc['c4']\n",
    "# X['c5']=dc['c5']\n",
    "X['d1']=dd['d1']\n",
    "X['d2']=dd['d2']\n",
    "X['d3']=dd['d3']\n",
    "X['e1']=de['e1']\n",
    "X['e2']=de['e2']\n",
    "X['e3']=de['e3']\n",
    "X['f1']=df['f1']\n",
    "X['f2']=df['f2']\n",
    "X['f3']=df['f3']\n",
    "X['g1']=dg['g1']\n",
    "X['g2']=dg['g2']\n",
    "X['g3']=dg['g3']\n",
    "X['h1']=dh['h1']\n",
    "X['h2']=dh['h2']\n",
    "X['h3']=dh['h3']"
   ]
  },
  {
   "cell_type": "code",
   "execution_count": 22,
   "metadata": {},
   "outputs": [],
   "source": [
    "#將數據分割訓練數據與測試數據\n",
    "\n",
    "# 隨機采樣20%的數據構建測試樣本，其余作為訓練樣本\n",
    "X_train, X_test, y_train, y_test = train_test_split(X, y, random_state=64, test_size=0.2)"
   ]
  },
  {
   "cell_type": "code",
   "execution_count": 23,
   "metadata": {},
   "outputs": [
    {
     "name": "stdout",
     "output_type": "stream",
     "text": [
      "logloss of each fold is:  [0.34765499 0.44140864 0.39530787 0.4380946  0.43384186 0.38399272\n",
      " 0.3810759  0.48887085 0.47926319 0.40938646]\n",
      "cv logloss is: 0.41988970966068806\n"
     ]
    }
   ],
   "source": [
    "lr= LogisticRegression()\n",
    "# 交叉驗證用於評估模型性能和進行參數調優（模型選擇）\n",
    "#分類任務中交叉驗證缺省是采用StratifiedKFold\n",
    "\n",
    "loss = cross_val_score(lr, X_train, y_train, cv=10, scoring='neg_log_loss')\n",
    "print( 'logloss of each fold is: ',-loss)\n",
    "print('cv logloss is:', -loss.mean())"
   ]
  },
  {
   "cell_type": "code",
   "execution_count": 24,
   "metadata": {},
   "outputs": [
    {
     "name": "stdout",
     "output_type": "stream",
     "text": [
      "-0.35430613243312153\n",
      "**********************************************************************\n",
      "-0.3958761939837462\n",
      "{'C': 100, 'penalty': 'l2'}\n",
      "**********************************************************************\n",
      "-0.2925491477161651\n",
      "[[ 39  10]\n",
      " [  4 101]]\n",
      "             precision    recall  f1-score   support\n",
      "\n",
      "          1     0.9070    0.7959    0.8478        49\n",
      "          0     0.9099    0.9619    0.9352       105\n",
      "\n",
      "avg / total     0.9090    0.9091    0.9074       154\n",
      "\n"
     ]
    }
   ],
   "source": [
    "penaltys = ['l1','l2']\n",
    "Cs = [0.001, 0.01, 0.1,0.2, 1,1.01, 10, 100, 1000]\n",
    "tuned_parameters = dict(penalty = penaltys, C = Cs)\n",
    "\n",
    "lr_penalty= LogisticRegression()\n",
    "grid= GridSearchCV(lr_penalty, tuned_parameters,cv=10, scoring='neg_log_loss')\n",
    "grid.fit(X_train,y_train)\n",
    "print (grid.score(X_train,y_train))\n",
    "print('**********************************************************************')\n",
    "print(grid.best_score_)\n",
    "print(grid.best_params_)\n",
    "print('**********************************************************************')\n",
    "print (grid.score(X_test,y_test))\n",
    "print(metrics.confusion_matrix(y_test,grid.predict(X_test), labels=[1, 0]) )\n",
    "print(metrics.classification_report(y_test, grid.predict(X_test), labels=[1,0], digits=4))\n",
    "\n",
    "# -0.4504121324054152\n",
    "# **********************************************************************\n",
    "# -0.4677866783874703\n",
    "\n",
    "\n",
    "# -0.37088220392288845\n",
    "# **********************************************************************\n",
    "# -0.404740811110916\n",
    "# {'C': 0.2, 'penalty': 'l1'}\n",
    "# **********************************************************************\n",
    "\n",
    "#0.235\n",
    "# -0.3588714688015304\n",
    "# **********************************************************************\n",
    "# -0.3963762503074018\n",
    "# {'C': 1.01, 'penalty': 'l2'}\n",
    "# **********************************************************************\n",
    "# -0.29012886304238433\n",
    "# [[ 38  11]\n",
    "#  [  5 100]]\n",
    "#              precision    recall  f1-score   support\n",
    "\n",
    "#           1     0.8837    0.7755    0.8261        49\n",
    "#           0     0.9009    0.9524    0.9259       105\n",
    "\n",
    "# avg / total     0.8954    0.8961    0.8942       154\n",
    "\n",
    "\n",
    "\n",
    "#0.24\n",
    "# #-0.3596243551216354\n",
    "# **********************************************************************\n",
    "# -0.3965795943063267\n",
    "# {'C': 1.01, 'penalty': 'l1'}\n",
    "# **********************************************************************\n",
    "# -0.2951461481379703\n",
    "# [[39 10]\n",
    "#  [ 6 99]]\n",
    "#              precision    recall  f1-score   support\n",
    "\n",
    "#           1     0.8667    0.7959    0.8298        49\n",
    "#           0     0.9083    0.9429    0.9252       105\n",
    "\n",
    "# avg / total     0.8950    0.8961    0.8949       154"
   ]
  },
  {
   "cell_type": "code",
   "execution_count": 25,
   "metadata": {},
   "outputs": [
    {
     "name": "stderr",
     "output_type": "stream",
     "text": [
      "C:\\ProgramData\\Anaconda3\\lib\\site-packages\\sklearn\\utils\\deprecation.py:122: FutureWarning: You are accessing a training score ('mean_train_score'), which will not be available by default any more in 0.21. If you need training scores, please set return_train_score=True\n",
      "  warnings.warn(*warn_args, **warn_kwargs)\n",
      "C:\\ProgramData\\Anaconda3\\lib\\site-packages\\sklearn\\utils\\deprecation.py:122: FutureWarning: You are accessing a training score ('std_train_score'), which will not be available by default any more in 0.21. If you need training scores, please set return_train_score=True\n",
      "  warnings.warn(*warn_args, **warn_kwargs)\n"
     ]
    },
    {
     "data": {
      "image/png": "[encoded data removed]",
      "text/plain": [
       "<Figure size 432x288 with 1 Axes>"
      ]
     },
     "metadata": {},
     "output_type": "display_data"
    }
   ],
   "source": [
    "# plot CV誤差曲線\n",
    "test_means = grid.cv_results_['mean_test_score']\n",
    "test_stds = grid.cv_results_['std_test_score']\n",
    "train_means = grid.cv_results_['mean_train_score']\n",
    "train_stds = grid.cv_results_['std_train_score']\n",
    "\n",
    "# plot results\n",
    "n_Cs = len(Cs)\n",
    "number_penaltys = len(penaltys)\n",
    "test_scores = np.array(test_means).reshape(n_Cs, number_penaltys)\n",
    "train_scores = np.array(train_means).reshape(n_Cs, number_penaltys)\n",
    "test_stds = np.array(test_stds).reshape(n_Cs, number_penaltys)\n",
    "train_stds = np.array(train_stds).reshape(n_Cs, number_penaltys)\n",
    "\n",
    "x_axis = np.log10(Cs)\n",
    "for i, value in enumerate(penaltys):\n",
    "    # pyplot.plot(log(Cs), test_scores[i], label= 'penalty:'   + str(value))\n",
    "    plt.errorbar(x_axis, test_scores[:, i], yerr=test_stds[:, i], label=penaltys[i] + ' Test')\n",
    "    plt.errorbar(x_axis, train_scores[:, i], yerr=train_stds[:, i], label=penaltys[i] + ' Train')\n",
    "\n",
    "plt.legend()\n",
    "plt.xlabel('log(C)')\n",
    "plt.ylabel('neg-logloss')\n",
    "plt.savefig('LogisticGridSearchCV_C.png')\n",
    "\n",
    "plt.show()"
   ]
  },
  {
   "cell_type": "code",
   "execution_count": 26,
   "metadata": {},
   "outputs": [
    {
     "name": "stdout",
     "output_type": "stream",
     "text": [
      "訓練集上的accuracy_score為: 0.8274\n",
      "訓練集上的recall_score為: 0.8402\n",
      "\n",
      "預測集上的accuracy_score為: 0.8506\n",
      "預測集上的recall_score為: 0.8776\n",
      "\n",
      "混淆矩陣為:\n",
      "[[184  35]\n",
      " [ 71 324]]\n",
      "[[43  6]\n",
      " [17 88]]\n",
      "\n",
      "回歸參數報告:\n",
      "             precision    recall  f1-score   support\n",
      "\n",
      "          1     0.7216    0.8402    0.7764       219\n",
      "          0     0.9025    0.8203    0.8594       395\n",
      "\n",
      "avg / total     0.8380    0.8274    0.8298       614\n",
      "\n",
      "             precision    recall  f1-score   support\n",
      "\n",
      "          1     0.7167    0.8776    0.7890        49\n",
      "          0     0.9362    0.8381    0.8844       105\n",
      "\n",
      "avg / total     0.8663    0.8506    0.8541       154\n",
      "\n"
     ]
    }
   ],
   "source": [
    "best_score_C_val=1.01      \n",
    "LR_BestModel =LogisticRegression(penalty='l1',C=best_score_C_val, solver='liblinear',multi_class='ovr',\n",
    "                           tol=1e-6,class_weight=\"balanced\", random_state=64)\n",
    "\n",
    "LR_BestModel.fit(X_train, y_train)\n",
    "LR_PredictTest = LR_BestModel.predict(X_test)\n",
    "\n",
    "print(\"訓練集上的accuracy_score為: {0:.4f}\".format(metrics.accuracy_score(y_train, LR_BestModel.predict(X_train))))\n",
    "print(\"訓練集上的recall_score為: {0:.4f}\".format(metrics.recall_score(y_train, LR_BestModel.predict(X_train))))\n",
    "print(\"\")\n",
    "print(\"預測集上的accuracy_score為: {0:.4f}\".format(metrics.accuracy_score(y_test, LR_PredictTest)))\n",
    "print(\"預測集上的recall_score為: {0:.4f}\".format(metrics.recall_score(y_test, LR_PredictTest)))\n",
    "print(\"\")\n",
    "print(\"混淆矩陣為:\")\n",
    "print(metrics.confusion_matrix(y_train, LR_BestModel.predict(X_train), labels=[1, 0]) )\n",
    "print(metrics.confusion_matrix(y_test, LR_PredictTest, labels=[1, 0]) )\n",
    "print(\"\")\n",
    "print(\"回歸參數報告:\")\n",
    "print(metrics.classification_report(y_train, LR_BestModel.predict(X_train), labels=[1,0], digits=4))  #digits：int，輸出浮點值的位數．\n",
    "print(metrics.classification_report(y_test, LR_PredictTest, labels=[1,0], digits=4))  #digits：int，輸出浮點值的位數．"
   ]
  },
  {
   "cell_type": "code",
   "execution_count": 27,
   "metadata": {},
   "outputs": [
    {
     "name": "stdout",
     "output_type": "stream",
     "text": [
      "Classification report for classifier LinearSVC(C=1.0, class_weight=None, dual=True, fit_intercept=True,\n",
      "     intercept_scaling=1, loss='squared_hinge', max_iter=1000,\n",
      "     multi_class='ovr', penalty='l2', random_state=None, tol=0.0001,\n",
      "     verbose=0):\n",
      "             precision    recall  f1-score   support\n",
      "\n",
      "          0       0.85      0.90      0.87       395\n",
      "          1       0.80      0.70      0.75       219\n",
      "\n",
      "avg / total       0.83      0.83      0.83       614\n",
      "\n",
      "\n",
      "Confusion matrix:\n",
      "[[357  38]\n",
      " [ 65 154]]\n",
      "Classification report for classifier LinearSVC(C=1.0, class_weight=None, dual=True, fit_intercept=True,\n",
      "     intercept_scaling=1, loss='squared_hinge', max_iter=1000,\n",
      "     multi_class='ovr', penalty='l2', random_state=None, tol=0.0001,\n",
      "     verbose=0):\n",
      "             precision    recall  f1-score   support\n",
      "\n",
      "          0       0.90      0.95      0.93       105\n",
      "          1       0.88      0.78      0.83        49\n",
      "\n",
      "avg / total       0.90      0.90      0.89       154\n",
      "\n",
      "\n",
      "Confusion matrix:\n",
      "[[100   5]\n",
      " [ 11  38]]\n"
     ]
    }
   ],
   "source": [
    "SVC1 = LinearSVC().fit(X_train, y_train)\n",
    "\n",
    "#在校驗集上測試，估計模型性能\n",
    "y_predict = SVC1.predict(X_test)\n",
    "\n",
    "y_train_predict = SVC1.predict(X_train)\n",
    "print(\"Classification report for classifier %s:\\n%s\\n\"\n",
    "      % (SVC1, metrics.classification_report(y_train,y_train_predict)))\n",
    "print(\"Confusion matrix:\\n%s\" % metrics.confusion_matrix(y_train, y_train_predict))\n",
    "\n",
    "print(\"Classification report for classifier %s:\\n%s\\n\"\n",
    "      % (SVC1, metrics.classification_report(y_test, y_predict)))\n",
    "print(\"Confusion matrix:\\n%s\" % metrics.confusion_matrix(y_test, y_predict))"
   ]
  },
  {
   "cell_type": "code",
   "execution_count": 28,
   "metadata": {},
   "outputs": [
    {
     "name": "stdout",
     "output_type": "stream",
     "text": [
      "accuracy: 0.8831168831168831\n",
      "accuracy: 0.8896103896103896\n",
      "accuracy: 0.9025974025974026\n",
      "accuracy: 0.9025974025974026\n",
      "accuracy: 0.9090909090909091\n",
      "accuracy: 0.9025974025974026\n",
      "accuracy: 0.9025974025974026\n",
      "accuracy: 0.8961038961038961\n",
      "accuracy: 0.9025974025974026\n",
      "accuracy: 0.8506493506493507\n",
      "accuracy: 0.8571428571428571\n",
      "accuracy: 0.8831168831168831\n",
      "accuracy: 0.8636363636363636\n",
      "accuracy: 0.9025974025974026\n",
      "accuracy: 0.8961038961038961\n",
      "accuracy: 0.8376623376623377\n",
      "accuracy: 0.8506493506493507\n",
      "accuracy: 0.9025974025974026\n",
      "accuracy: 0.8376623376623377\n",
      "accuracy: 0.8961038961038961\n",
      "accuracy: 0.9025974025974026\n",
      "accuracy: 0.9025974025974026\n",
      "accuracy: 0.8896103896103896\n",
      "accuracy: 0.9155844155844156\n",
      "accuracy: 0.8831168831168831\n",
      "accuracy: 0.8376623376623377\n",
      "accuracy: 0.8311688311688312\n",
      "accuracy: 0.7922077922077922\n",
      "accuracy: 0.8376623376623377\n",
      "accuracy: 0.9025974025974026\n",
      "accuracy: 0.8441558441558441\n",
      "accuracy: 0.8636363636363636\n",
      "accuracy: 0.8506493506493507\n",
      "accuracy: 0.8701298701298701\n",
      "accuracy: 0.8961038961038961\n",
      "accuracy: 0.7467532467532467\n",
      "accuracy: 0.8311688311688312\n",
      "accuracy: 0.6688311688311688\n",
      "accuracy: 0.7727272727272727\n",
      "accuracy: 0.8636363636363636\n",
      "accuracy: 0.8701298701298701\n",
      "accuracy: 0.8961038961038961\n",
      "accuracy: 0.8051948051948052\n",
      "accuracy: 0.8376623376623377\n",
      "accuracy: 0.7922077922077922\n",
      "accuracy: 0.8311688311688312\n",
      "accuracy: 0.8896103896103896\n",
      "accuracy: 0.8571428571428571\n",
      "accuracy: 0.8636363636363636\n",
      "accuracy: 0.7922077922077922\n",
      "accuracy: 0.8311688311688312\n",
      "accuracy: 0.8766233766233766\n",
      "accuracy: 0.8181818181818182\n",
      "accuracy: 0.7337662337662337\n",
      "accuracy: 0.6948051948051948\n",
      "accuracy: 0.7727272727272727\n",
      "accuracy: 0.8181818181818182\n",
      "accuracy: 0.8571428571428571\n",
      "accuracy: 0.6363636363636364\n",
      "accuracy: 0.7467532467532467\n",
      "accuracy: 0.8961038961038961\n",
      "accuracy: 0.6883116883116883\n",
      "accuracy: 0.8246753246753247\n",
      "accuracy: 0.7662337662337663\n",
      "accuracy: 0.9090909090909091\n",
      "accuracy: 0.8896103896103896\n",
      "accuracy: 0.6558441558441559\n",
      "accuracy: 0.8636363636363636\n",
      "accuracy: 0.6363636363636364\n",
      "accuracy: 0.6233766233766234\n",
      "accuracy: 0.7207792207792207\n",
      "accuracy: 0.8766233766233766\n",
      "accuracy: 0.9155844155844156\n",
      "accuracy: 0.8181818181818182\n",
      "accuracy: 0.8766233766233766\n",
      "accuracy: 0.5\n",
      "accuracy: 0.8636363636363636\n",
      "accuracy: 0.8701298701298701\n",
      "accuracy: 0.7207792207792207\n",
      "accuracy: 0.8311688311688312\n",
      "accuracy: 0.8376623376623377\n",
      "accuracy: 0.7857142857142857\n",
      "accuracy: 0.8831168831168831\n",
      "accuracy: 0.8571428571428571\n",
      "accuracy: 0.7532467532467533\n",
      "accuracy: 0.42857142857142855\n",
      "accuracy: 0.7337662337662337\n",
      "accuracy: 0.7597402597402597\n",
      "accuracy: 0.8831168831168831\n",
      "accuracy: 0.8701298701298701\n",
      "accuracy: 0.8376623376623377\n",
      "accuracy: 0.8961038961038961\n",
      "accuracy: 0.8246753246753247\n",
      "accuracy: 0.8051948051948052\n",
      "accuracy: 0.7207792207792207\n",
      "accuracy: 0.8311688311688312"
     ]
    },
    {
     "name": "stderr",
     "output_type": "stream",
     "text": [
      "No handles with labels found to put in legend.\n"
     ]
    },
    {
     "name": "stdout",
     "output_type": "stream",
     "text": [
      "\n",
      "accuracy: 0.7727272727272727\n",
      "accuracy: 0.8181818181818182\n",
      "accuracy: 0.8116883116883117\n"
     ]
    },
    {
     "data": {
      "image/png": "[encoded data removed]",
      "text/plain": [
       "<Figure size 432x288 with 1 Axes>"
      ]
     },
     "metadata": {},
     "output_type": "display_data"
    }
   ],
   "source": [
    "def fit_grid_point_Linear(C, X_train, y_train, X_val, y_val):\n",
    "    # 在訓練集是那個利用SVC訓練\n",
    "    SVC2 = LinearSVC(C=C)\n",
    "    SVC2 = SVC2.fit(X_train, y_train)\n",
    "\n",
    "    # 在校驗集上返回accuracy\n",
    "    accuracy = SVC2.score(X_val, y_val)\n",
    "    #print (SVC2.get_params) 0.003\n",
    "    #print(dir(SVC2))\n",
    "    print(\"accuracy: {}\".format(accuracy))\n",
    "    return accuracy\n",
    "\n",
    "\n",
    "\n",
    "# C_s = [x/10000 for x in range(9000,10001)] #0.9-\n",
    "C_s = [x/10 for x in range(1,100)]\n",
    "\n",
    "# 需要調優的參數\n",
    "\n",
    "accuracy_s = []\n",
    "for i, oneC in enumerate(C_s):\n",
    "    #for j, penalty in enumerate(penalty_s):\n",
    "    tmp = fit_grid_point_Linear(oneC, X_train, y_train, X_test, y_test)\n",
    "    accuracy_s.append(tmp)\n",
    "\n",
    "\n",
    "\n",
    "x_axis = np.log10(C_s)\n",
    "# for j, penalty in enumerate(penalty_s):\n",
    "plt.plot(x_axis, np.array(accuracy_s), 'b-')\n",
    "\n",
    "plt.legend()\n",
    "plt.xlabel('log(C)')\n",
    "plt.ylabel('accuracy')\n",
    "plt.savefig('SVM_Otto.png')\n",
    "\n",
    "plt.show()"
   ]
  },
  {
   "cell_type": "code",
   "execution_count": 29,
   "metadata": {},
   "outputs": [
    {
     "name": "stdout",
     "output_type": "stream",
     "text": [
      "0.8355048859934854\n",
      "**********************************************************************\n",
      "0.8306188925081434\n",
      "{'C': 100, 'penalty': 'l2'}\n",
      "**********************************************************************\n",
      "Classification report for classifier LinearSVC(C=1.0, class_weight=None, dual=False, fit_intercept=True,\n",
      "     intercept_scaling=1, loss='squared_hinge', max_iter=1000,\n",
      "     multi_class='ovr', penalty='l2', random_state=None, tol=0.0001,\n",
      "     verbose=0):\n",
      "             precision    recall  f1-score   support\n",
      "\n",
      "          0       0.87      0.88      0.87       395\n",
      "          1       0.78      0.76      0.77       219\n",
      "\n",
      "avg / total       0.83      0.84      0.84       614\n",
      "\n",
      "\n",
      "Confusion matrix:\n",
      "[[347  48]\n",
      " [ 53 166]]\n",
      "****************************************************************\n",
      "Classification report for classifier LinearSVC(C=1.0, class_weight=None, dual=False, fit_intercept=True,\n",
      "     intercept_scaling=1, loss='squared_hinge', max_iter=1000,\n",
      "     multi_class='ovr', penalty='l2', random_state=None, tol=0.0001,\n",
      "     verbose=0):\n",
      "             precision    recall  f1-score   support\n",
      "\n",
      "          0       0.91      0.95      0.93       105\n",
      "          1       0.89      0.80      0.84        49\n",
      "\n",
      "avg / total       0.90      0.90      0.90       154\n",
      "\n",
      "\n",
      "Confusion matrix:\n",
      "[[100   5]\n",
      " [ 10  39]]\n"
     ]
    }
   ],
   "source": [
    "#線性 SVM正則參數調優\n",
    "#Cs = [x/10000.0 for x in range(1,101)]\n",
    "CS =[ 0.0068]#最優\n",
    "tuned_parameters = dict(penalty = ['l2','l1'], C = Cs)\n",
    "SVC3=LinearSVC(dual=False)\n",
    "grid= GridSearchCV(SVC3, tuned_parameters,cv=10, scoring='accuracy')\n",
    "grid.fit(X_train,y_train)\n",
    "print (grid.score(X_train,y_train))\n",
    "#print (grid.score(X_test,y_test))\n",
    "\n",
    "print('**********************************************************************')\n",
    "print(grid.best_score_)\n",
    "print(grid.best_params_)\n",
    "print('**********************************************************************')\n",
    "\n",
    "y_train_pred=grid.predict(X_train)\n",
    "\n",
    "print(\"Classification report for classifier %s:\\n%s\\n\"\n",
    "      % (SVC3, metrics.classification_report(y_train, y_train_pred)))\n",
    "print(\"Confusion matrix:\\n%s\" % metrics.confusion_matrix(y_train, y_train_pred))\n",
    "print('****************************************************************')\n",
    "\n",
    "\n",
    "#在校驗集上測試，估計模型性能\n",
    "y_predict = grid.predict(X_test)\n",
    "\n",
    "print(\"Classification report for classifier %s:\\n%s\\n\"\n",
    "      % (SVC3, metrics.classification_report(y_test, y_predict)))\n",
    "print(\"Confusion matrix:\\n%s\" % metrics.confusion_matrix(y_test, y_predict))"
   ]
  },
  {
   "cell_type": "code",
   "execution_count": 30,
   "metadata": {},
   "outputs": [
    {
     "name": "stdout",
     "output_type": "stream",
     "text": [
      "Classification report for classifier SVC(C=1.0, cache_size=200, class_weight=None, coef0=0.0,\n",
      "  decision_function_shape='ovr', degree=3, gamma='auto', kernel='rbf',\n",
      "  max_iter=-1, probability=False, random_state=None, shrinking=True,\n",
      "  tol=0.001, verbose=False):\n",
      "             precision    recall  f1-score   support\n",
      "\n",
      "          0       0.94      0.95      0.94       395\n",
      "          1       0.90      0.89      0.90       219\n",
      "\n",
      "avg / total       0.93      0.93      0.93       614\n",
      "\n",
      "\n",
      "Confusion matrix:\n",
      "[[374  21]\n",
      " [ 24 195]]\n",
      "****************************************************************\n",
      "Classification report for classifier SVC(C=1.0, cache_size=200, class_weight=None, coef0=0.0,\n",
      "  decision_function_shape='ovr', degree=3, gamma='auto', kernel='rbf',\n",
      "  max_iter=-1, probability=False, random_state=None, shrinking=True,\n",
      "  tol=0.001, verbose=False):\n",
      "             precision    recall  f1-score   support\n",
      "\n",
      "          0       0.89      0.89      0.89       105\n",
      "          1       0.76      0.78      0.77        49\n",
      "\n",
      "avg / total       0.85      0.85      0.85       154\n",
      "\n",
      "\n",
      "Confusion matrix:\n",
      "[[93 12]\n",
      " [11 38]]\n",
      "****************************************************************\n",
      "0.8127035830618893\n",
      "{'C': 6.3, 'gamma': 0.17, 'kernel': 'rbf'}\n"
     ]
    }
   ],
   "source": [
    "# RBF核SVM正則參數調優\n",
    "\n",
    "C_s = [c/10.0 for c in range(1,101) ]\n",
    "#gamma_s = [g/1000.0 for g in range(1,101) ]\n",
    "#C_s = [0.1]#最優\n",
    "gamma_s=[0.17]\n",
    "kernel_s=['rbf']\n",
    "tuned_parameters = dict( C = C_s,gamma = gamma_s,kernel=kernel_s)\n",
    "SVC4=SVC()\n",
    "grid= GridSearchCV(SVC4, tuned_parameters,cv=5, scoring='accuracy')\n",
    "# grid=grid.best_estimator_\n",
    "grid.fit(X_train,y_train)\n",
    "y_test_pred=grid.predict(X_test)\n",
    "y_train_pred=grid.predict(X_train)\n",
    "\n",
    "print(\"Classification report for classifier %s:\\n%s\\n\"\n",
    "      % (SVC4, metrics.classification_report(y_train, y_train_pred)))\n",
    "print(\"Confusion matrix:\\n%s\" % metrics.confusion_matrix(y_train, y_train_pred))\n",
    "print('****************************************************************')\n",
    "\n",
    "\n",
    "print(\"Classification report for classifier %s:\\n%s\\n\"\n",
    "      % (SVC4, metrics.classification_report(y_test, y_test_pred)))\n",
    "print(\"Confusion matrix:\\n%s\" % metrics.confusion_matrix(y_test, y_test_pred))\n",
    "print('****************************************************************')\n",
    "# print(grid.cv_results_)\n",
    "print(grid.best_score_)\n",
    "print(grid.best_params_)"
   ]
  }
 ],
 "metadata": {
  "kernelspec": {
   "display_name": "Python 3",
   "language": "python",
   "name": "python3"
  },
  "language_info": {
   "codemirror_mode": {
    "name": "ipython",
    "version": 3
   },
   "file_extension": ".py",
   "mimetype": "text/x-python",
   "name": "python",
   "nbconvert_exporter": "python",
   "pygments_lexer": "ipython3",
   "version": "3.6.5"
  }
 },
 "nbformat": 4,
 "nbformat_minor": 2
}
